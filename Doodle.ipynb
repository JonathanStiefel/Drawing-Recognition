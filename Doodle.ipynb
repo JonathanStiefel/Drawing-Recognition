{
  "nbformat": 4,
  "nbformat_minor": 0,
  "metadata": {
    "colab": {
      "provenance": [],
      "authorship_tag": "ABX9TyPsoK8DZqJ+o5BYIcRGn8d2",
      "include_colab_link": true
    },
    "kernelspec": {
      "name": "python3",
      "display_name": "Python 3"
    },
    "language_info": {
      "name": "python"
    }
  },
  "cells": [
    {
      "cell_type": "markdown",
      "metadata": {
        "id": "view-in-github",
        "colab_type": "text"
      },
      "source": [
        "<a href=\"https://colab.research.google.com/github/JonathanStiefel/Drawing-Recognition/blob/main/Doodle.ipynb\" target=\"_parent\"><img src=\"https://colab.research.google.com/assets/colab-badge.svg\" alt=\"Open In Colab\"/></a>"
      ]
    },
    {
      "cell_type": "code",
      "execution_count": null,
      "metadata": {
        "id": "pXh_EMp_zf1j"
      },
      "outputs": [],
      "source": []
    },
    {
      "cell_type": "markdown",
      "source": [
        "# Doodle Machine Learning Model\n",
        "## Load Data"
      ],
      "metadata": {
        "id": "spyCwAlEzpaT"
      }
    },
    {
      "cell_type": "code",
      "source": [
        "!wget https://storage.googleapis.com/quickdraw_dataset/full/numpy_bitmap/airplane.npy\n",
        "\n",
        "import numpy as np\n",
        "\n",
        "# Load the data\n",
        "airplane = np.load('airplane.npy')\n",
        "\n",
        "# Each row in the data represents a 28x28 image flattened into a 784-length vector\n",
        "airplane_images = airplane.reshape(-1, 28, 28)\n",
        "\n",
        "# Example to visualize one of the drawings\n",
        "import matplotlib.pyplot as plt\n",
        "plt.imshow(airplane_images[0], cmap='gray')\n",
        "plt.show()\n"
      ],
      "metadata": {
        "colab": {
          "base_uri": "https://localhost:8080/",
          "height": 641
        },
        "id": "uN7I9Qv8z_Ff",
        "outputId": "d6918dba-e1e3-45d7-8052-96b3221744d9"
      },
      "execution_count": null,
      "outputs": [
        {
          "output_type": "stream",
          "name": "stdout",
          "text": [
            "--2024-06-30 16:30:09--  https://storage.googleapis.com/quickdraw_dataset/full/numpy_bitmap/airplane.npy\n",
            "Resolving storage.googleapis.com (storage.googleapis.com)... 173.194.215.207, 173.194.216.207, 108.177.12.207, ...\n",
            "Connecting to storage.googleapis.com (storage.googleapis.com)|173.194.215.207|:443... connected.\n",
            "HTTP request sent, awaiting response... 200 OK\n",
            "Length: 118872512 (113M) [application/octet-stream]\n",
            "Saving to: ‘airplane.npy’\n",
            "\n",
            "airplane.npy        100%[===================>] 113.37M   126MB/s    in 0.9s    \n",
            "\n",
            "2024-06-30 16:30:10 (126 MB/s) - ‘airplane.npy’ saved [118872512/118872512]\n",
            "\n"
          ]
        },
        {
          "output_type": "display_data",
          "data": {
            "text/plain": [
              "<Figure size 640x480 with 1 Axes>"
            ],
            "image/png": "[encoded data removed]"
          },
          "metadata": {}
        }
      ]
    },
    {
      "cell_type": "markdown",
      "source": [
        "## Create Model"
      ],
      "metadata": {
        "id": "scsCEdXUEKMd"
      }
    },
    {
      "cell_type": "code",
      "source": [
        "import tensorflow as tf\n",
        "from tensorflow.keras.models import Sequential\n",
        "from tensorflow.keras.layers import Conv2D, MaxPooling2D, Flatten, Dense\n",
        "\n",
        "# Normalize the images\n",
        "airplane_images = airplane_images / 255.0\n",
        "\n",
        "# Define the model\n",
        "model = Sequential([\n",
        "    Conv2D(32, kernel_size=(3, 3), activation='relu', input_shape=(28, 28, 1)),\n",
        "    MaxPooling2D(pool_size=(2, 2)),\n",
        "    Conv2D(64, kernel_size=(3, 3), activation='relu'),\n",
        "    MaxPooling2D(pool_size=(2, 2)),\n",
        "    Flatten(),\n",
        "    Dense(128, activation='relu'),\n",
        "    Dense(345, activation='softmax')\n",
        "])\n",
        "\n",
        "# Compile the model\n",
        "model.compile(optimizer='adam', loss='sparse_categorical_crossentropy', metrics=['accuracy'])\n",
        "\n",
        "# Assuming labels are available for training\n",
        "labels = np.zeros(airplane_images.shape[0])  # Dummy labels for the example\n",
        "\n",
        "# Train the model\n",
        "model.fit(airplane_images, labels, epochs=10, validation_split=0.2)\n"
      ],
      "metadata": {
        "colab": {
          "base_uri": "https://localhost:8080/"
        },
        "id": "r6Bqqlji_fUU",
        "outputId": "0dcb58e0-f4e4-4483-c12e-0db3f9b711b0"
      },
      "execution_count": null,
      "outputs": [
        {
          "output_type": "stream",
          "name": "stdout",
          "text": [
            "Epoch 1/10\n",
            "3791/3791 [==============================] - 124s 32ms/step - loss: 0.0080 - accuracy: 0.9997 - val_loss: 2.3861e-09 - val_accuracy: 1.0000\n",
            "Epoch 2/10\n",
            "3791/3791 [==============================] - 115s 30ms/step - loss: 2.6807e-08 - accuracy: 1.0000 - val_loss: 1.5331e-10 - val_accuracy: 1.0000\n",
            "Epoch 3/10\n",
            "3791/3791 [==============================] - 116s 31ms/step - loss: 4.0359e-09 - accuracy: 1.0000 - val_loss: 2.3586e-11 - val_accuracy: 1.0000\n",
            "Epoch 4/10\n",
            "3791/3791 [==============================] - 115s 30ms/step - loss: 6.8794e-10 - accuracy: 1.0000 - val_loss: 0.0000e+00 - val_accuracy: 1.0000\n",
            "Epoch 5/10\n",
            "3791/3791 [==============================] - 115s 30ms/step - loss: 1.3464e-10 - accuracy: 1.0000 - val_loss: 0.0000e+00 - val_accuracy: 1.0000\n",
            "Epoch 6/10\n",
            "3791/3791 [==============================] - 113s 30ms/step - loss: 3.0466e-11 - accuracy: 1.0000 - val_loss: 0.0000e+00 - val_accuracy: 1.0000\n",
            "Epoch 7/10\n",
            "3791/3791 [==============================] - 113s 30ms/step - loss: 1.9656e-12 - accuracy: 1.0000 - val_loss: 0.0000e+00 - val_accuracy: 1.0000\n",
            "Epoch 8/10\n",
            "3791/3791 [==============================] - 114s 30ms/step - loss: 1.9656e-12 - accuracy: 1.0000 - val_loss: 0.0000e+00 - val_accuracy: 1.0000\n",
            "Epoch 9/10\n",
            "3791/3791 [==============================] - 112s 30ms/step - loss: 0.0000e+00 - accuracy: 1.0000 - val_loss: 0.0000e+00 - val_accuracy: 1.0000\n",
            "Epoch 10/10\n",
            "3791/3791 [==============================] - 117s 31ms/step - loss: 0.0000e+00 - accuracy: 1.0000 - val_loss: 0.0000e+00 - val_accuracy: 1.0000\n"
          ]
        },
        {
          "output_type": "execute_result",
          "data": {
            "text/plain": [
              "<keras.src.callbacks.History at 0x7dd5f45c49a0>"
            ]
          },
          "metadata": {},
          "execution_count": 3
        }
      ]
    }
  ]
}